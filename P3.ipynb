{
 "cells": [
  {
   "cell_type": "markdown",
   "metadata": {},
   "source": [
    "# Project Submission\n",
    "\n",
    "Continuous Control for the Udacity Ud893 Deep Reinforcement Learning Nanodegree (DRLND)\n",
    "\n",
    "## Imports and Dependencies"
   ]
  },
  {
   "cell_type": "code",
   "execution_count": 1,
   "metadata": {},
   "outputs": [],
   "source": [
    "import sys\n",
    "sys.path.append(\"../python\")\n",
    "import random\n",
    "import numpy as np\n",
    "import torch\n",
    "from collections import deque\n",
    "import matplotlib.pyplot as plt\n",
    "from datetime import datetime\n",
    "import os\n",
    "\n",
    "from unityagents import UnityEnvironment\n",
    "\n",
    "%matplotlib inline"
   ]
  },
  {
   "cell_type": "markdown",
   "metadata": {},
   "source": [
    "## Unity Environment\n",
    "\n",
    "Note that if your operating system is Windows (64-bit), the Unity environment is included and you can run the below environment instantiation cell.  \n",
    "\n",
    "However, if you're using a different operating system, download the file you require from one of the following links:\n",
    "\n",
    "- Linux: [click here](https://s3-us-west-1.amazonaws.com/udacity-drlnd/P2/Reacher/Reacher_Linux.zip)\n",
    "- Mac OSX: [click here](https://s3-us-west-1.amazonaws.com/udacity-drlnd/P2/Reacher/Reacher.app.zip)\n",
    "- Windows (32-bit): [click here](https://s3-us-west-1.amazonaws.com/udacity-drlnd/P2/Reacher/Reacher_Windows_x86.zip)\n",
    "\n",
    "Then, place the file in the main project directory folder and unzip (or decompress) the file.  Modify the file_name in the below cell and then run the cell."
   ]
  },
  {
   "cell_type": "code",
   "execution_count": 2,
   "metadata": {},
   "outputs": [
    {
     "name": "stderr",
     "output_type": "stream",
     "text": [
      "INFO:unityagents:\n",
      "'Academy' started successfully!\n",
      "Unity Academy name: Academy\n",
      "        Number of Brains: 1\n",
      "        Number of External Brains : 1\n",
      "        Lesson number : 0\n",
      "        Reset Parameters :\n",
      "\t\t\n",
      "Unity brain name: TennisBrain\n",
      "        Number of Visual Observations (per agent): 0\n",
      "        Vector Observation space type: continuous\n",
      "        Vector Observation space size (per agent): 8\n",
      "        Number of stacked Vector Observation: 3\n",
      "        Vector Action space type: continuous\n",
      "        Vector Action space size (per agent): 2\n",
      "        Vector Action descriptions: , \n"
     ]
    }
   ],
   "source": [
    "env = UnityEnvironment(file_name=\"Tennis_Windows_x86_64/Tennis.exe\")"
   ]
  },
  {
   "cell_type": "markdown",
   "metadata": {},
   "source": [
    "## Get Default Brain"
   ]
  },
  {
   "cell_type": "code",
   "execution_count": 3,
   "metadata": {},
   "outputs": [],
   "source": [
    "# get the default brain\n",
    "brain_name = env.brain_names[0]\n",
    "brain = env.brains[brain_name]"
   ]
  },
  {
   "cell_type": "markdown",
   "metadata": {},
   "source": [
    "## Main Training Loop Function"
   ]
  },
  {
   "cell_type": "code",
   "execution_count": 4,
   "metadata": {},
   "outputs": [],
   "source": [
    "import time\n",
    "\n",
    "def training_loop(agent, n_episodes=7000, max_t=3000):  \n",
    "    \"\"\"DDPG Training Loop\n",
    "    Params\n",
    "    ======\n",
    "        agent (function): agent function\n",
    "        n_episodes (int): maximum number of training episodes\n",
    "        max_t (int): maximum number of timesteps per episode\n",
    "    \"\"\"\n",
    "    \n",
    "    model_dir = os.getcwd()+\"/model_dir\"\n",
    "    os.makedirs(model_dir, exist_ok=True)\n",
    "    \n",
    "    start_time = datetime.now()\n",
    "    scores = []                        # list containing scores from each episode\n",
    "    scores_window = deque(maxlen=100)  # last 100 scores\n",
    "    for i_episode in range(1, n_episodes+1):\n",
    "        env_info = env.reset(train_mode=True)[brain_name] # reset the environment\n",
    "        state = env_info.vector_observations              # get the current state\n",
    "        agent.reset()\n",
    "        score = np.zeros(len(env_info.agents))\n",
    "        for t in range(max_t):\n",
    "            action = agent.act(state)\n",
    "            env_info = env.step(action)[brain_name]        # send the action to the environment\n",
    "            next_state = env_info.vector_observations      # get the next state\n",
    "            reward = env_info.rewards                      # get the reward\n",
    "            done = env_info.local_done                     # see if episode has finished\n",
    "            agent.step(state, action, reward, next_state, done, t)\n",
    "            state = np.copy(next_state)\n",
    "            score += reward\n",
    "            if np.any(done):\n",
    "                break\n",
    "        scores_window.append(np.amax(score))       # save most recent score\n",
    "        scores.append(np.amax(score))\n",
    "        print('\\rEpisode {}\\tAverage Score: {:.4f}\\tScore: {}\\tTime: {}'.format(i_episode, np.mean(scores_window), score, datetime.now()-start_time), end=\"\")\n",
    "        if i_episode % 100 == 0:\n",
    "            print('\\rEpisode {}\\tAverage Score: {:.4f}\\tScore: {}\\tTime: {}'.format(i_episode, np.mean(scores_window), score, datetime.now()-start_time))\n",
    "\n",
    "            save_dict_list = []\n",
    "            for i in range(len(env_info.agents)):\n",
    "                save_dict = {'actor_params': agent.actor_local[i].state_dict(),\n",
    "                             'actor_optim_params': agent.actor_optimizer[i].state_dict(),\n",
    "                             'critic_params': agent.critic_local[i].state_dict(),\n",
    "                             'critic_optim_params': agent.critic_optimizer[i].state_dict()}\n",
    "                save_dict_list.append(save_dict)\n",
    "            torch.save(save_dict_list,\n",
    "                       os.path.join(model_dir, 'episode-{}.pt'.format(i_episode)))                            \n",
    "            \n",
    "            \n",
    "        if np.mean(scores_window)>=0.5:\n",
    "            print('\\nEnvironment solved in {:d} episodes!\\tAverage Score: {:.4f}'.format(i_episode, np.mean(scores_window)))\n",
    "            \n",
    "            save_dict_list = []\n",
    "            for i in range(len(env_info.agents)):\n",
    "                save_dict = {'actor_params': agent.actor_local[i].state_dict(),\n",
    "                             'actor_optim_params': agent.actor_optimizer[i].state_dict(),\n",
    "                             'critic_params': agent.critic_local[i].state_dict(),\n",
    "                             'critic_optim_params': agent.critic_optimizer[i].state_dict()}\n",
    "                save_dict_list.append(save_dict)\n",
    "                torch.save(save_dict_list,\n",
    "                           os.path.join(model_dir, 'final-episode.pt'))                \n",
    "            \n",
    "            \n",
    "            break\n",
    "    return scores"
   ]
  },
  {
   "cell_type": "markdown",
   "metadata": {},
   "source": [
    "## MADDPG Agent"
   ]
  },
  {
   "cell_type": "code",
   "execution_count": 5,
   "metadata": {},
   "outputs": [
    {
     "name": "stdout",
     "output_type": "stream",
     "text": [
      "Agent Parameters:\n",
      "Number of agents: 2\n",
      "lr_a: 0.0001\n",
      "lr_c: 0.001\n",
      "weight decay: 0\n",
      "fc1_units: 400\n",
      "fc2_units: 300\n",
      "Episode 100\tAverage Score: 0.0050\tScore: [ 0.   -0.01]\tTime: 0:02:11.167774\n",
      "Episode 200\tAverage Score: 0.0040\tScore: [ 0.   -0.01]\tTime: 0:04:55.340351\n",
      "Episode 300\tAverage Score: 0.0040\tScore: [ 0.   -0.01]\tTime: 0:07:40.405865\n",
      "Episode 400\tAverage Score: 0.0000\tScore: [ 0.   -0.01]\tTime: 0:10:23.379763\n",
      "Episode 500\tAverage Score: 0.0000\tScore: [ 0.   -0.01]\tTime: 0:13:15.618006\n",
      "Episode 600\tAverage Score: 0.0066\tScore: [ 0.   -0.01]\tTime: 0:16:33.959479\n",
      "Episode 700\tAverage Score: 0.0180\tScore: [-0.01  0.  ]\tTime: 0:20:10.362165\n",
      "Episode 800\tAverage Score: 0.0310\tScore: [0.3  0.19]\tTime: 0:25:04.26602298\n",
      "Episode 900\tAverage Score: 0.0219\tScore: [ 0.   -0.01]\tTime: 0:29:17.293094\n",
      "Episode 1000\tAverage Score: 0.0488\tScore: [ 0.1  -0.01]\tTime: 0:34:26.189568\n",
      "Episode 1100\tAverage Score: 0.0952\tScore: [ 0.1  -0.01]\tTime: 0:42:13.826018\n",
      "Episode 1200\tAverage Score: 0.0955\tScore: [0.2  0.19]\tTime: 0:49:33.25012251\n",
      "Episode 1300\tAverage Score: 0.1016\tScore: [0.1  0.09]\tTime: 0:57:22.55342028\n",
      "Episode 1400\tAverage Score: 0.0933\tScore: [0.1  0.09]\tTime: 1:05:34.26531007\n",
      "Episode 1500\tAverage Score: 0.0910\tScore: [-0.01  0.1 ]\tTime: 1:13:42.513754\n",
      "Episode 1600\tAverage Score: 0.0979\tScore: [ 0.1  -0.01]\tTime: 1:22:05.156326\n",
      "Episode 1700\tAverage Score: 0.1016\tScore: [0.09 0.2 ]\tTime: 1:30:24.93179821\n",
      "Episode 1800\tAverage Score: 0.1227\tScore: [0.2  0.09]\tTime: 1:41:30.40608853:52.192120\n",
      "Episode 1900\tAverage Score: 0.1365\tScore: [0.1  0.09]\tTime: 1:53:52.17820710:36.925301\n",
      "Episode 2000\tAverage Score: 0.1515\tScore: [0.09 0.2 ]\tTime: 2:08:15.47525267:34.784494\n",
      "Episode 2100\tAverage Score: 0.1995\tScore: [0.09 0.2 ]\tTime: 2:26:07.57786589:47.431046\n",
      "Episode 2200\tAverage Score: 0.2215\tScore: [0.1  0.09]\tTime: 2:46:26.50662145:02.805147\n",
      "Episode 2300\tAverage Score: 0.3236\tScore: [1.19000002 1.30000002]\tTime: 3:16:31.415918\n",
      "Episode 2338\tAverage Score: 0.5140\tScore: [2.20000003 2.19000003]\tTime: 3:40:00.193557\n",
      "Environment solved in 2338 episodes!\tAverage Score: 0.5140\n",
      "Time:  3:40:00.226555\n"
     ]
    },
    {
     "data": {
      "image/png": "[encoded data removed]",
      "text/plain": [
       "<Figure size 432x288 with 1 Axes>"
      ]
     },
     "metadata": {
      "needs_background": "light"
     },
     "output_type": "display_data"
    }
   ],
   "source": [
    "from maddpg_agent import Agent\n",
    "\n",
    "agent = Agent(num_agents=2, state_size=24, action_size=2, random_seed=2, lr_a=1e-4, lr_c=1e-3,weight_decay=0, fc1_units=400, fc2_units=300)\n",
    "\n",
    "start = datetime.now()\n",
    "scores = training_loop(agent)\n",
    "end = datetime.now()\n",
    "time_taken = end - start\n",
    "print('Time: ',time_taken) \n",
    "\n",
    "# plot the scores\n",
    "plt.plot(np.arange(len(scores)), scores)\n",
    "plt.ylabel('Score')\n",
    "plt.xlabel('Episodes')\n",
    "plt.title('MADDPG Agent')\n",
    "plt.show()\n",
    "\n",
    "# purposely left commented.  Leave as is.\n",
    "# env.close()"
   ]
  },
  {
   "cell_type": "markdown",
   "metadata": {},
   "source": [
    "## Run Smart Agent"
   ]
  },
  {
   "cell_type": "code",
   "execution_count": 5,
   "metadata": {},
   "outputs": [
    {
     "name": "stdout",
     "output_type": "stream",
     "text": [
      "Episode: 2\tStep: 400\tScore: [1.00000001 1.00000001]\n"
     ]
    }
   ],
   "source": [
    "import numpy as np\n",
    "import random\n",
    "import copy\n",
    "from collections import namedtuple, deque\n",
    "\n",
    "from model import Actor\n",
    "\n",
    "import torch\n",
    "import torch.nn.functional as F\n",
    "import torch.optim as optim\n",
    "\n",
    "device = torch.device(\"cuda:0\" if torch.cuda.is_available() else \"cpu\")\n",
    "\n",
    "class Agent():\n",
    "    \"\"\"Interacts with and learns from the environment.\"\"\"\n",
    "\n",
    "    def __init__(self, state_size, action_size, random_seed, fc1_units=400, fc2_units=300):\n",
    "        \"\"\"Initialize an Agent object.\n",
    "\n",
    "        Params\n",
    "        ======\n",
    "            state_size (int): dimension of each state\n",
    "            action_size (int): dimension of each action\n",
    "            random_seed (int): random seed\n",
    "            fc1_units (int): Number of nodes in first hidden layer\n",
    "            fc2_units (int): Number of nodes in second hidden layer\n",
    "        \"\"\"\n",
    "\n",
    "        self.state_size = state_size\n",
    "        self.action_size = action_size\n",
    "        self.seed = random.seed(random_seed)\n",
    "\n",
    "        self.actor_local = Actor(\n",
    "            state_size, action_size, random_seed, fc1_units=fc1_units, fc2_units=fc2_units).to(device)\n",
    "\n",
    "    def act(self, state):\n",
    "        \"\"\"Returns actions for given state as per current policy.\"\"\"\n",
    "\n",
    "        action = np.zeros(self.action_size)\n",
    "        state.resize(1, self.state_size)  # reshape for batch processing\n",
    "        state = torch.from_numpy(state).float().to(device)\n",
    "        self.actor_local.eval()\n",
    "        with torch.no_grad():\n",
    "            action = self.actor_local(state).cpu().data.numpy()\n",
    "        self.actor_local.train()\n",
    "        return np.clip(action, -1, 1)\n",
    "    \n",
    "env_info = env.reset(train_mode=False)[brain_name]\n",
    "num_agents = len(env_info.agents)\n",
    "\n",
    "# create 2 agents\n",
    "agent = [Agent(state_size=24, action_size=2, random_seed=2, fc1_units=400, fc2_units=300) for _ in range(num_agents)]\n",
    "\n",
    "# load each agent\n",
    "agent_file = torch.load('model_dir/final-episode.pt', map_location='cpu')\n",
    "for i in range(num_agents):\n",
    "    agent[i].actor_local.load_state_dict(agent_file[i]['actor_params'])\n",
    "    \n",
    "episodes = 1\n",
    "\n",
    "for i in range(episodes):\n",
    "    env_info = env.reset(train_mode=False)[brain_name] # reset the environment\n",
    "    state = env_info.vector_observations            # get the current state\n",
    "    scores = np.zeros(num_agents)                          # initialize the score (for each agent)\n",
    "    for j in range(400):\n",
    "        actions = np.zeros([2, 2])\n",
    "        for i in range(num_agents):\n",
    "            actions[i] = agent[i].act(state[i])\n",
    "        env_info = env.step(actions)[brain_name]        # send the action to the environment\n",
    "        state = env_info.vector_observations   # get the next state\n",
    "        reward = env_info.rewards                   # get the reward\n",
    "        done = env_info.local_done                # see if episode has finished                    \n",
    "        if np.any(done):\n",
    "            break\n",
    "        scores += reward\n",
    "        print('\\rEpisode: {}\\tStep: {}\\tScore: {}'.format(i+1, j+1, scores), end=\"\")\n",
    "    print('\\rEpisode: {}\\tStep: {}\\tScore: {}'.format(i+1, j+1, scores))\n",
    "        \n",
    "# purposely left commented.  Leave as is.\n",
    "# env.close()"
   ]
  },
  {
   "cell_type": "code",
   "execution_count": null,
   "metadata": {},
   "outputs": [],
   "source": []
  }
 ],
 "metadata": {
  "kernelspec": {
   "display_name": "Python 3",
   "language": "python",
   "name": "python3"
  },
  "language_info": {
   "codemirror_mode": {
    "name": "ipython",
    "version": 3
   },
   "file_extension": ".py",
   "mimetype": "text/x-python",
   "name": "python",
   "nbconvert_exporter": "python",
   "pygments_lexer": "ipython3",
   "version": "3.7.3"
  }
 },
 "nbformat": 4,
 "nbformat_minor": 2
}
